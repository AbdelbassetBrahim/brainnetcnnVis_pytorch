{
 "cells": [
  {
   "cell_type": "markdown",
   "metadata": {},
   "source": [
    "Part 1: replicate Kawahara's results on simulated injury connectomes (structural data) using the pyTorch implementation \n",
    "--"
   ]
  },
  {
   "cell_type": "markdown",
   "metadata": {},
   "source": [
    "Part 2 : Train a CNN with E2E convlayers on a simulated injury connectome dataset with two classes\n",
    "--"
   ]
  },
  {
   "cell_type": "markdown",
   "metadata": {},
   "source": [
    "Step 1 - load a mean connectome "
   ]
  },
  {
   "cell_type": "code",
   "execution_count": 1,
   "metadata": {},
   "outputs": [],
   "source": [
    "import numpy as np \n",
    "allcorr = np.load('/home/tbuser/datasets/MPI-Leipzig_Mind-Brain-Body/scripts/mpilmbb/fconn_183subjects_BASC64_93regions_session2.npz')['corr'] \n",
    "\n",
    "\n",
    "meanconn = allcorr.mean(axis=0)"
   ]
  },
  {
   "cell_type": "code",
   "execution_count": 2,
   "metadata": {},
   "outputs": [
    {
     "name": "stdout",
     "output_type": "stream",
     "text": [
      "21 42\n"
     ]
    }
   ],
   "source": [
    "nregions= meanconn.shape[0]\n",
    "\n",
    "permlocs = np.random.permutation(93)\n",
    "firstloc = permlocs[0]\n",
    "secondloc = permlocs[1]\n",
    "\n",
    "print(firstloc,secondloc)"
   ]
  },
  {
   "cell_type": "code",
   "execution_count": 19,
   "metadata": {},
   "outputs": [
    {
     "data": {
      "text/plain": [
       "<module 'generate_synth_injury' from '/home/tbuser/Téléchargements/BrainCNN_Vis-master/generate_synth_injury.py'>"
      ]
     },
     "execution_count": 19,
     "metadata": {},
     "output_type": "execute_result"
    }
   ],
   "source": [
    "from importlib import reload\n",
    "\n",
    "import generate_synth_injury\n",
    "reload(generate_synth_injury)"
   ]
  },
  {
   "cell_type": "code",
   "execution_count": 20,
   "metadata": {},
   "outputs": [],
   "source": [
    "noise_w = 0.0625\n",
    "X,Y = generate_synth_injury.construct_dataset(meanconn,firstloc,secondloc,noise_weight=noise_w,nsamples=500)"
   ]
  },
  {
   "cell_type": "code",
   "execution_count": 22,
   "metadata": {},
   "outputs": [
    {
     "data": {
      "text/plain": [
       "(1000, 93, 93)"
      ]
     },
     "execution_count": 22,
     "metadata": {},
     "output_type": "execute_result"
    }
   ],
   "source": []
  },
  {
   "cell_type": "code",
   "execution_count": null,
   "metadata": {},
   "outputs": [],
   "source": []
  }
 ],
 "metadata": {
  "kernelspec": {
   "display_name": "Python 3",
   "language": "python",
   "name": "python3"
  },
  "language_info": {
   "codemirror_mode": {
    "name": "ipython",
    "version": 3
   },
   "file_extension": ".py",
   "mimetype": "text/x-python",
   "name": "python",
   "nbconvert_exporter": "python",
   "pygments_lexer": "ipython3",
   "version": "3.6.6"
  }
 },
 "nbformat": 4,
 "nbformat_minor": 2
}
