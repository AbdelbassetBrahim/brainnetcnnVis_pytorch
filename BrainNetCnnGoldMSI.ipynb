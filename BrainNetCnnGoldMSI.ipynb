{
 "cells": [
  {
   "cell_type": "code",
   "execution_count": 1,
   "metadata": {
    "scrolled": true
   },
   "outputs": [],
   "source": [
    "import torch\n",
    "import numpy as np\n",
    "\n",
    "import torch.nn.functional as F\n",
    "import torch.nn\n",
    "from torch.autograd import Variable\n",
    "\n",
    "import torch.backends.cudnn as cudnn\n",
    "\n",
    "\n",
    "use_cuda = torch.cuda.is_available()\n"
   ]
  },
  {
   "cell_type": "code",
   "execution_count": 2,
   "metadata": {},
   "outputs": [],
   "source": [
    "class E2EBlock(torch.nn.Module):\n",
    "    '''E2Eblock.'''\n",
    "\n",
    "    def __init__(self, in_planes, planes,example,bias=False):\n",
    "        super(E2EBlock, self).__init__()\n",
    "        self.d = example.size(3)\n",
    "        self.cnn1 = torch.nn.Conv2d(in_planes,planes,(1,self.d),bias=bias)\n",
    "        self.cnn2 = torch.nn.Conv2d(in_planes,planes,(self.d,1),bias=bias)\n",
    "\n",
    "        \n",
    "    def forward(self, x):\n",
    "        a = self.cnn1(x)\n",
    "        b = self.cnn2(x)\n",
    "        return torch.cat([a]*self.d,3)+torch.cat([b]*self.d,2)\n",
    "\n"
   ]
  },
  {
   "cell_type": "markdown",
   "metadata": {},
   "source": [
    "BrainNetCNN Network for fitting Gold-MSI on LSD dataset"
   ]
  },
  {
   "cell_type": "code",
   "execution_count": 3,
   "metadata": {},
   "outputs": [],
   "source": [
    "class BrainNetCNN(torch.nn.Module):\n",
    "    def __init__(self, example, num_classes=10):\n",
    "        super(BrainNetCNN, self).__init__()\n",
    "        self.in_planes = example.size(1)\n",
    "        self.d = example.size(3)\n",
    "        \n",
    "        self.e2econv1 = E2EBlock(1,32,example,bias=True)\n",
    "        self.e2econv2 = E2EBlock(32,64,example,bias=True)\n",
    "        self.E2N = torch.nn.Conv2d(64,1,(1,self.d))\n",
    "        self.N2G = torch.nn.Conv2d(1,256,(self.d,1))\n",
    "        self.dense1 = torch.nn.Linear(256,128)\n",
    "        self.dense2 = torch.nn.Linear(128,30)\n",
    "        self.dense3 = torch.nn.Linear(30,2)\n",
    "        \n",
    "    def forward(self, x):\n",
    "        out = F.leaky_relu(self.e2econv1(x),negative_slope=0.33)\n",
    "        out = F.leaky_relu(self.e2econv2(out),negative_slope=0.33) \n",
    "        out = F.leaky_relu(self.E2N(out),negative_slope=0.33)\n",
    "        out = F.dropout(F.leaky_relu(self.N2G(out),negative_slope=0.33),p=0.5)\n",
    "        out = out.view(out.size(0), -1)\n",
    "        out = F.dropout(F.leaky_relu(self.dense1(out),negative_slope=0.33),p=0.5)\n",
    "        out = F.dropout(F.leaky_relu(self.dense2(out),negative_slope=0.33),p=0.5)\n",
    "        out = F.leaky_relu(self.dense3(out),negative_slope=0.33)\n",
    "        \n",
    "        return out\n"
   ]
  },
  {
   "cell_type": "markdown",
   "metadata": {},
   "source": [
    "Loader for GoldMSI-LSD77 dataset"
   ]
  },
  {
   "cell_type": "code",
   "execution_count": 4,
   "metadata": {},
   "outputs": [],
   "source": [
    "#behavdir = \"/Users/nicolasfarrugia/Documents/recherche/git/Gold-MSI-LSD77/behav\"\n",
    "behavdir = \"/home/nfarrugi/campus/data_lsd/behav\"\n",
    "\n",
    "from sklearn.model_selection import train_test_split\n",
    "from sklearn.preprocessing import normalize\n",
    "import os\n",
    "\n",
    "import torch.utils.data.dataset\n",
    "\n",
    "class GoldMSI_LSD_Dataset(torch.utils.data.Dataset):\n",
    "\n",
    "    def __init__(self, directory=behavdir,mode=\"train\",transform=False,class_balancing=False):\n",
    "        \"\"\"\n",
    "        Args:\n",
    "            directory (string): Path to the dataset.\n",
    "            mode (str): train = 90% Train, validation=10% Train, train+validation=100% train else test.\n",
    "            transform (callable, optional): Optional transform to be applied\n",
    "                on a sample.\n",
    "        \"\"\"\n",
    "        self.directory = directory\n",
    "        self.mode = mode\n",
    "        self.transform = transform\n",
    " \n",
    "        x = np.load(os.path.join(directory,\"X_y_lsd77_static_tangent.npz\"))['X']\n",
    "        y_all = np.load(os.path.join(directory,\"X_y_lsd77_static_tangent.npz\"))['y']            \n",
    "        y_2=y_all[:,[3,4]]\n",
    "        y = normalize(y_2,axis=0)\n",
    "        \n",
    "        X_train, X_test, y_train, y_test = train_test_split(x, y, test_size=0.33,random_state=42)\n",
    "        \n",
    "        if self.mode==\"train\":\n",
    "            \n",
    "            x = X_train\n",
    "            y = y_train\n",
    "            \n",
    "        elif self.mode==\"validation\":\n",
    "            x = X_test\n",
    "            y = y_test\n",
    "        elif mode==\"train+validation\":\n",
    "            x=x\n",
    "            y=y\n",
    "        else:\n",
    "            x=x\n",
    "            y=y\n",
    "            \n",
    "            \n",
    "        self.X = torch.FloatTensor(np.expand_dims(x,1).astype(np.float32))\n",
    "        #self.X = torch.FloatTensor(x.astype(np.float32))\n",
    "        self.Y = torch.FloatTensor(y.astype(np.float32))\n",
    "         \n",
    "        print(self.mode,self.X.shape,(self.Y.shape))\n",
    "            \n",
    "    def __len__(self):\n",
    "        return self.X.shape[0]\n",
    "\n",
    "    def __getitem__(self, idx):\n",
    "        sample = [self.X[idx], self.Y[idx]]\n",
    "        if self.transform:\n",
    "            sample[0] = self.transform(sample[0])\n",
    "        return sample"
   ]
  },
  {
   "cell_type": "code",
   "execution_count": 5,
   "metadata": {},
   "outputs": [
    {
     "name": "stdout",
     "output_type": "stream",
     "text": [
      "train torch.Size([203, 1, 64, 64]) torch.Size([203, 2])\n",
      "validation torch.Size([101, 1, 64, 64]) torch.Size([101, 2])\n"
     ]
    }
   ],
   "source": [
    "trainset = GoldMSI_LSD_Dataset(mode=\"train\")\n",
    "trainloader = torch.utils.data.DataLoader(trainset, batch_size=14, shuffle=True, num_workers=1)\n",
    "\n",
    "testset = GoldMSI_LSD_Dataset(mode=\"validation\")\n",
    "testloader = torch.utils.data.DataLoader(testset, batch_size=14, shuffle=False, num_workers=1)"
   ]
  },
  {
   "cell_type": "markdown",
   "metadata": {},
   "source": [
    "Training"
   ]
  },
  {
   "cell_type": "code",
   "execution_count": 1,
   "metadata": {},
   "outputs": [
    {
     "ename": "NameError",
     "evalue": "name 'BrainNetCNN' is not defined",
     "output_type": "error",
     "traceback": [
      "\u001b[0;31m---------------------------------------------------------------------------\u001b[0m",
      "\u001b[0;31mNameError\u001b[0m                                 Traceback (most recent call last)",
      "\u001b[0;32m<ipython-input-1-acbbf5adab8c>\u001b[0m in \u001b[0;36m<module>\u001b[0;34m()\u001b[0m\n\u001b[0;32m----> 1\u001b[0;31m \u001b[0mnet\u001b[0m \u001b[0;34m=\u001b[0m \u001b[0mBrainNetCNN\u001b[0m\u001b[0;34m(\u001b[0m\u001b[0mtrainset\u001b[0m\u001b[0;34m.\u001b[0m\u001b[0mX\u001b[0m\u001b[0;34m)\u001b[0m\u001b[0;34m\u001b[0m\u001b[0m\n\u001b[0m\u001b[1;32m      2\u001b[0m \u001b[0;34m\u001b[0m\u001b[0m\n\u001b[1;32m      3\u001b[0m \u001b[0;32mif\u001b[0m \u001b[0muse_cuda\u001b[0m\u001b[0;34m:\u001b[0m\u001b[0;34m\u001b[0m\u001b[0m\n\u001b[1;32m      4\u001b[0m     \u001b[0mnet\u001b[0m \u001b[0;34m=\u001b[0m \u001b[0mnet\u001b[0m\u001b[0;34m.\u001b[0m\u001b[0mcuda\u001b[0m\u001b[0;34m(\u001b[0m\u001b[0;34m)\u001b[0m\u001b[0;34m\u001b[0m\u001b[0m\n\u001b[1;32m      5\u001b[0m     \u001b[0;31m#net = torch.nn.DataParallel(net, device_ids=[0])\u001b[0m\u001b[0;34m\u001b[0m\u001b[0;34m\u001b[0m\u001b[0m\n",
      "\u001b[0;31mNameError\u001b[0m: name 'BrainNetCNN' is not defined"
     ]
    }
   ],
   "source": [
    "net = BrainNetCNN(trainset.X)\n",
    "\n",
    "if use_cuda:\n",
    "    net = net.cuda()\n",
    "    #net = torch.nn.DataParallel(net, device_ids=[0])\n",
    "    cudnn.benchmark = True\n",
    "        \n",
    "        \n",
    "momentum = 0.9\n",
    "lr = 0.001\n",
    "wd = 0.0005 ## Decay for L2 regularization \n",
    "#wd = 0"
   ]
  },
  {
   "cell_type": "code",
   "execution_count": null,
   "metadata": {},
   "outputs": [],
   "source": [
    "### Weights initialization for the dense layers using He Uniform initialization\n",
    "### He et al., http://arxiv.org/abs/1502.01852\n",
    "\n",
    "def init_weights_he(m):\n",
    "    #https://keras.io/initializers/#he_uniform\n",
    "    print(m)\n",
    "    if type(m) == torch.nn.Linear:\n",
    "        fan_in = net.dense1.in_features\n",
    "        he_lim = np.sqrt(6) / fan_in\n",
    "        m.weight.data.uniform_(-he_lim,he_lim)\n",
    "#        print(m.weight)\n",
    "\n",
    "net.apply(init_weights_he)"
   ]
  },
  {
   "cell_type": "code",
   "execution_count": null,
   "metadata": {},
   "outputs": [],
   "source": [
    "criterion = torch.nn.MSELoss()\n",
    "optimizer = torch.optim.SGD(net.parameters(),lr=lr,momentum=momentum,nesterov=True,weight_decay=wd)"
   ]
  },
  {
   "cell_type": "code",
   "execution_count": null,
   "metadata": {},
   "outputs": [],
   "source": [
    "def train(epoch):\n",
    "    net.train()\n",
    "    train_loss = 0\n",
    "    correct = 0\n",
    "    total = 0\n",
    "    running_loss = 0.0\n",
    "    \n",
    "    for batch_idx, (inputs, targets) in enumerate(trainloader):\n",
    "        \n",
    "        if use_cuda:\n",
    "            inputs, targets = inputs.cuda(), targets.cuda()\n",
    "        \n",
    "        optimizer.zero_grad()\n",
    "        inputs, targets = Variable(inputs), Variable(targets)\n",
    "        \n",
    "        \n",
    "        outputs = net(inputs)\n",
    "        loss = criterion(outputs, targets)\n",
    "        loss.backward()\n",
    "        optimizer.step()\n",
    "\n",
    "        \n",
    "        # print statistics\n",
    "        running_loss += loss.data[0]\n",
    "        \n",
    "        #if batch_idx % 10 == 9:    # print every 10 mini-batches\n",
    "        #    print('Training loss: %.6f' % ( running_loss / 10))\n",
    "        #    running_loss = 0.0\n",
    "        #_, predicted = torch.max(outputs.data, 1)\n",
    "        \n",
    "        #total += targets.size(0)\n",
    "        \n",
    "        #correct += predicted.eq(targets.data).cpu().sum()\n",
    "\n",
    "    return running_loss/batch_idx\n",
    "\n",
    "def test():\n",
    "    net.eval()\n",
    "    test_loss = 0\n",
    "    correct = 0\n",
    "    total = 0\n",
    "    running_loss = 0.0\n",
    "    \n",
    "    preds = []\n",
    "    ytrue = []\n",
    "    \n",
    "    for batch_idx, (inputs, targets) in enumerate(testloader):\n",
    "        \n",
    "        if use_cuda:\n",
    "            inputs, targets = inputs.cuda(), targets.cuda()\n",
    "        #with torch.no_grad():\n",
    "            inputs, targets = Variable(inputs), Variable(targets)\n",
    "\n",
    "            outputs = net(inputs)\n",
    "            loss = criterion(outputs, targets)\n",
    "\n",
    "            test_loss += loss.data[0]\n",
    "            \n",
    "            preds.append(outputs.data.cpu().numpy())\n",
    "            ytrue.append(targets.data.cpu().numpy())\n",
    "        \n",
    "    \n",
    "    \n",
    "        \n",
    "        # print statistics\n",
    "        running_loss += loss.data[0]\n",
    "        #if batch_idx % 5 == 4:    # print every 5 mini-batches\n",
    "        #    print('Test loss: %.6f' % ( running_loss / 5))\n",
    "        #    running_loss = 0.0\n",
    "            \n",
    "        \n",
    "        #_, predicted = torch.max(outputs.data, 1)\n",
    "        #total += targets.size(0)\n",
    "        #correct += predicted.eq(targets.data).cpu().sum()\n",
    "\n",
    "    \n",
    "    return np.vstack(preds),np.vstack(ytrue),running_loss/batch_idx\n",
    "    # Save checkpoint.\n",
    "    #acc = 100.*correct/total\n",
    "    \n",
    "\n"
   ]
  },
  {
   "cell_type": "markdown",
   "metadata": {},
   "source": [
    "Run Epochs of training and testing "
   ]
  },
  {
   "cell_type": "code",
   "execution_count": null,
   "metadata": {},
   "outputs": [],
   "source": [
    "from sklearn.metrics import mean_absolute_error as mae\n",
    "from scipy.stats import pearsonr\n",
    "\n",
    "nbepochs = 100\n",
    "allloss_train = []\n",
    "allloss_test= []\n",
    "\n",
    "allmae_test1 = []\n",
    "allpears_test1 = []\n",
    "\n",
    "allmae_test2 = []\n",
    "allpears_test2 = []\n",
    "\n",
    "\n",
    "for epoch in range(nbepochs):\n",
    "    loss_train = train(epoch)\n",
    "    \n",
    "    allloss_train.append(loss_train)\n",
    "    \n",
    "    \n",
    "    preds,y_true,loss_test = test()\n",
    "    \n",
    "    allloss_test.append(loss_test)\n",
    "    \n",
    "    print(\"Epoch %d\" % epoch)\n",
    "    mae_1 = mae(preds[:,0],y_true[:,0])\n",
    "    pears_1 = pearsonr(preds[:,0],y_true[:,0])\n",
    "    \n",
    "    allmae_test1.append(mae_1)\n",
    "    allpears_test1.append(pears_1)\n",
    "    \n",
    "    print(\"Test Set : MAE for Engagement : %0.2f %%\" % (100*mae_1))\n",
    "    print(\"Test Set : pearson R for Engagement : %0.2f, p = %0.4f\" % (pears_1[0],pears_1[1]))\n",
    "\n",
    "    mae_2 = mae(preds[:,1],y_true[:,1])\n",
    "    pears_2 = pearsonr(preds[:,1],y_true[:,1])\n",
    "    \n",
    "    allmae_test2.append(mae_2)\n",
    "    allpears_test2.append(pears_2)\n",
    "    \n",
    "    print(\"Test Set : MAE for Training : %0.2f %%\" % (100*mae_2))\n",
    "    print(\"Test Set : pearson R for Training : %0.2f, p = %0.4f\" % (pears_2[0],pears_2[1]))\n",
    "    "
   ]
  },
  {
   "cell_type": "code",
   "execution_count": null,
   "metadata": {},
   "outputs": [],
   "source": [
    "from matplotlib import pyplot as plt \n",
    "%matplotlib inline \n",
    "\n",
    "plt.plot(allloss_train)\n",
    "plt.plot(allloss_test)"
   ]
  },
  {
   "cell_type": "code",
   "execution_count": null,
   "metadata": {},
   "outputs": [],
   "source": [
    "plt.plot(allmae_test1)\n",
    "plt.plot(allmae_test2)"
   ]
  },
  {
   "cell_type": "markdown",
   "metadata": {},
   "source": [
    "Run this to save the model "
   ]
  },
  {
   "cell_type": "code",
   "execution_count": null,
   "metadata": {},
   "outputs": [],
   "source": [
    "import datetime\n",
    "\n",
    "mystring = datetime.datetime.now().strftime(\"%m-%d-%H-%M\")\n",
    "\n",
    "filename_pt = mystring + \"_model.pt\"\n",
    "filename_stats = mystring + \"_stats.npz\"\n",
    "\n",
    "torch.save(net,filename_pt)\n",
    "\n",
    "np.savez_compressed(filename_stats,test_losses = allloss_train,train_losses = allloss_train,mae_training = allmae_test2,\n",
    "                   mae_eng = allmae_test1,pears_eng = allpears_test1,pears_train = allpears_test2)"
   ]
  },
  {
   "cell_type": "code",
   "execution_count": null,
   "metadata": {},
   "outputs": [],
   "source": []
  },
  {
   "cell_type": "code",
   "execution_count": null,
   "metadata": {},
   "outputs": [],
   "source": []
  }
 ],
 "metadata": {
  "kernelspec": {
   "display_name": "Python 3",
   "language": "python",
   "name": "python3"
  },
  "language_info": {
   "codemirror_mode": {
    "name": "ipython",
    "version": 3
   },
   "file_extension": ".py",
   "mimetype": "text/x-python",
   "name": "python",
   "nbconvert_exporter": "python",
   "pygments_lexer": "ipython3",
   "version": "3.6.0"
  }
 },
 "nbformat": 4,
 "nbformat_minor": 2
}
