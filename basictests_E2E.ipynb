{
 "cells": [
  {
   "cell_type": "code",
   "execution_count": 27,
   "metadata": {
    "scrolled": true
   },
   "outputs": [],
   "source": [
    "import torch\n",
    "import numpy as np\n",
    "\n",
    "input = np.array(\n",
    "[[[\n",
    "    [1  ,1,0,0,0,1],\n",
    "    [1  ,1,0,1,0,1],\n",
    "    [0.5,1,1,1,0,0],\n",
    "    [0  ,1,0,1,0,1],\n",
    "    [0  ,1,1,0,0,1],\n",
    "    [1  ,0,1,0,0,0],\n",
    "]\n",
    "],\n",
    "    [[\n",
    "    [1  ,1,0,0,0,1],\n",
    "    [1  ,1,0,1,0,1],\n",
    "    [0.5,1,1,1,0,0],\n",
    "    [0  ,1,0,1,0,1],\n",
    "    [0  ,1,1,0,0,1],\n",
    "    [1  ,0,1,0,0,0],\n",
    "]\n",
    "]\n",
    "]\n",
    ")\n",
    "\n",
    "kernel = np.transpose(np.array(\n",
    "[[[\n",
    "    [1,1,1,1,1,1.0],\n",
    "    [1,1,1,1,1,1]\n",
    "]]]),[0,1,2,3])"
   ]
  },
  {
   "cell_type": "code",
   "execution_count": 42,
   "metadata": {},
   "outputs": [
    {
     "data": {
      "text/plain": [
       "((2, 1, 6, 6), (1, 1, 2, 6))"
      ]
     },
     "execution_count": 42,
     "metadata": {},
     "output_type": "execute_result"
    }
   ],
   "source": [
    "# One image of one feature map 6x6\n",
    "# The kernel has 1 feature map out, 1 feature map in, 2 vectors of size 6\n",
    "input.shape,kernel.shape"
   ]
  },
  {
   "cell_type": "code",
   "execution_count": 43,
   "metadata": {},
   "outputs": [],
   "source": [
    "input_torch = torch.FloatTensor(input)\n",
    "kernel_torch = torch.FloatTensor(kernel)"
   ]
  },
  {
   "cell_type": "code",
   "execution_count": 44,
   "metadata": {},
   "outputs": [
    {
     "name": "stdout",
     "output_type": "stream",
     "text": [
      "torch.Size([2, 1, 6, 1])\n"
     ]
    }
   ],
   "source": [
    "import torch.nn.functional as F\n",
    "import torch.nn\n",
    "from torch.autograd import Variable\n",
    "cnn = torch.nn.Conv2d(1,1,(1,6),bias=False)\n",
    "cnn.weight.data.copy_(kernel_torch[:,:,0,:])\n",
    "a = cnn.forward(Variable(input_torch))\n",
    "print(a.size())"
   ]
  },
  {
   "cell_type": "code",
   "execution_count": 56,
   "metadata": {},
   "outputs": [
    {
     "ename": "RuntimeError",
     "evalue": "The expanded size of the tensor (1) must match the existing size (6) at non-singleton dimension 3",
     "output_type": "error",
     "traceback": [
      "\u001b[0;31m---------------------------------------------------------------------------\u001b[0m",
      "\u001b[0;31mRuntimeError\u001b[0m                              Traceback (most recent call last)",
      "\u001b[0;32m<ipython-input-56-887cad7652e6>\u001b[0m in \u001b[0;36m<module>\u001b[0;34m()\u001b[0m\n\u001b[1;32m      1\u001b[0m \u001b[0mcnn2\u001b[0m \u001b[0;34m=\u001b[0m \u001b[0mtorch\u001b[0m\u001b[0;34m.\u001b[0m\u001b[0mnn\u001b[0m\u001b[0;34m.\u001b[0m\u001b[0mConv2d\u001b[0m\u001b[0;34m(\u001b[0m\u001b[0;36m1\u001b[0m\u001b[0;34m,\u001b[0m\u001b[0;36m1\u001b[0m\u001b[0;34m,\u001b[0m\u001b[0;34m(\u001b[0m\u001b[0;36m6\u001b[0m\u001b[0;34m,\u001b[0m\u001b[0;36m1\u001b[0m\u001b[0;34m)\u001b[0m\u001b[0;34m,\u001b[0m\u001b[0mbias\u001b[0m\u001b[0;34m=\u001b[0m\u001b[0;32mFalse\u001b[0m\u001b[0;34m)\u001b[0m\u001b[0;34m\u001b[0m\u001b[0m\n\u001b[0;32m----> 2\u001b[0;31m \u001b[0mcnn2\u001b[0m\u001b[0;34m.\u001b[0m\u001b[0mweight\u001b[0m\u001b[0;34m.\u001b[0m\u001b[0mdata\u001b[0m\u001b[0;34m.\u001b[0m\u001b[0mcopy_\u001b[0m\u001b[0;34m(\u001b[0m\u001b[0mkernel_torch\u001b[0m\u001b[0;34m[\u001b[0m\u001b[0;34m:\u001b[0m\u001b[0;34m,\u001b[0m\u001b[0;34m:\u001b[0m\u001b[0;34m,\u001b[0m\u001b[0;36m0\u001b[0m\u001b[0;34m,\u001b[0m\u001b[0;34m:\u001b[0m\u001b[0;34m]\u001b[0m\u001b[0;34m)\u001b[0m\u001b[0;34m\u001b[0m\u001b[0m\n\u001b[0m\u001b[1;32m      3\u001b[0m \u001b[0;34m\u001b[0m\u001b[0m\n\u001b[1;32m      4\u001b[0m \u001b[0mb\u001b[0m \u001b[0;34m=\u001b[0m \u001b[0mcnn2\u001b[0m\u001b[0;34m.\u001b[0m\u001b[0mforward\u001b[0m\u001b[0;34m(\u001b[0m\u001b[0mVariable\u001b[0m\u001b[0;34m(\u001b[0m\u001b[0minput_torch\u001b[0m\u001b[0;34m)\u001b[0m\u001b[0;34m)\u001b[0m\u001b[0;34m\u001b[0m\u001b[0m\n\u001b[1;32m      5\u001b[0m \u001b[0mprint\u001b[0m\u001b[0;34m(\u001b[0m\u001b[0mb\u001b[0m\u001b[0;34m.\u001b[0m\u001b[0msize\u001b[0m\u001b[0;34m(\u001b[0m\u001b[0;34m)\u001b[0m\u001b[0;34m)\u001b[0m\u001b[0;34m\u001b[0m\u001b[0m\n",
      "\u001b[0;31mRuntimeError\u001b[0m: The expanded size of the tensor (1) must match the existing size (6) at non-singleton dimension 3"
     ]
    }
   ],
   "source": [
    "cnn2 = torch.nn.Conv2d(1,1,(6,1),bias=False)\n",
    "cnn2.weight.data.copy_(kernel_torch[:,:,0,:])\n",
    "\n",
    "b = cnn2.forward(Variable(input_torch))\n",
    "print(b.size())"
   ]
  },
  {
   "cell_type": "code",
   "execution_count": 14,
   "metadata": {},
   "outputs": [
    {
     "data": {
      "text/plain": [
       "tensor([[[[ 3.0000],\n",
       "          [ 4.0000],\n",
       "          [ 3.5000],\n",
       "          [ 3.0000],\n",
       "          [ 3.0000],\n",
       "          [ 2.0000]]],\n",
       "\n",
       "\n",
       "        [[[ 3.0000],\n",
       "          [ 4.0000],\n",
       "          [ 3.5000],\n",
       "          [ 3.0000],\n",
       "          [ 3.0000],\n",
       "          [ 2.0000]]]])"
      ]
     },
     "execution_count": 14,
     "metadata": {},
     "output_type": "execute_result"
    }
   ],
   "source": [
    "a"
   ]
  },
  {
   "cell_type": "code",
   "execution_count": 15,
   "metadata": {},
   "outputs": [
    {
     "data": {
      "text/plain": [
       "tensor([[[[ 3.0000,  3.0000,  3.0000,  3.0000,  3.0000,  3.0000],\n",
       "          [ 4.0000,  4.0000,  4.0000,  4.0000,  4.0000,  4.0000],\n",
       "          [ 3.5000,  3.5000,  3.5000,  3.5000,  3.5000,  3.5000],\n",
       "          [ 3.0000,  3.0000,  3.0000,  3.0000,  3.0000,  3.0000],\n",
       "          [ 3.0000,  3.0000,  3.0000,  3.0000,  3.0000,  3.0000],\n",
       "          [ 2.0000,  2.0000,  2.0000,  2.0000,  2.0000,  2.0000]]],\n",
       "\n",
       "\n",
       "        [[[ 3.0000,  3.0000,  3.0000,  3.0000,  3.0000,  3.0000],\n",
       "          [ 4.0000,  4.0000,  4.0000,  4.0000,  4.0000,  4.0000],\n",
       "          [ 3.5000,  3.5000,  3.5000,  3.5000,  3.5000,  3.5000],\n",
       "          [ 3.0000,  3.0000,  3.0000,  3.0000,  3.0000,  3.0000],\n",
       "          [ 3.0000,  3.0000,  3.0000,  3.0000,  3.0000,  3.0000],\n",
       "          [ 2.0000,  2.0000,  2.0000,  2.0000,  2.0000,  2.0000]]]])"
      ]
     },
     "execution_count": 15,
     "metadata": {},
     "output_type": "execute_result"
    }
   ],
   "source": [
    "torch.cat([a]*6,3)\n"
   ]
  },
  {
   "cell_type": "code",
   "execution_count": 16,
   "metadata": {},
   "outputs": [
    {
     "ename": "NameError",
     "evalue": "name 'b' is not defined",
     "output_type": "error",
     "traceback": [
      "\u001b[0;31m---------------------------------------------------------------------------\u001b[0m",
      "\u001b[0;31mNameError\u001b[0m                                 Traceback (most recent call last)",
      "\u001b[0;32m<ipython-input-16-89e6c98d9288>\u001b[0m in \u001b[0;36m<module>\u001b[0;34m()\u001b[0m\n\u001b[0;32m----> 1\u001b[0;31m \u001b[0mb\u001b[0m\u001b[0;34m\u001b[0m\u001b[0m\n\u001b[0m",
      "\u001b[0;31mNameError\u001b[0m: name 'b' is not defined"
     ]
    }
   ],
   "source": [
    "b"
   ]
  },
  {
   "cell_type": "code",
   "execution_count": 17,
   "metadata": {},
   "outputs": [
    {
     "ename": "NameError",
     "evalue": "name 'b' is not defined",
     "output_type": "error",
     "traceback": [
      "\u001b[0;31m---------------------------------------------------------------------------\u001b[0m",
      "\u001b[0;31mNameError\u001b[0m                                 Traceback (most recent call last)",
      "\u001b[0;32m<ipython-input-17-0bc9514cbfbe>\u001b[0m in \u001b[0;36m<module>\u001b[0;34m()\u001b[0m\n\u001b[0;32m----> 1\u001b[0;31m \u001b[0mtorch\u001b[0m\u001b[0;34m.\u001b[0m\u001b[0mcat\u001b[0m\u001b[0;34m(\u001b[0m\u001b[0;34m[\u001b[0m\u001b[0mb\u001b[0m\u001b[0;34m]\u001b[0m\u001b[0;34m*\u001b[0m\u001b[0;36m6\u001b[0m\u001b[0;34m,\u001b[0m\u001b[0;36m2\u001b[0m\u001b[0;34m)\u001b[0m\u001b[0;34m\u001b[0m\u001b[0m\n\u001b[0m",
      "\u001b[0;31mNameError\u001b[0m: name 'b' is not defined"
     ]
    }
   ],
   "source": [
    "torch.cat([b]*6,2)\n"
   ]
  },
  {
   "cell_type": "code",
   "execution_count": null,
   "metadata": {},
   "outputs": [],
   "source": [
    "torch.cat([a]*6,3)+torch.cat([b]*6,2)\n"
   ]
  },
  {
   "cell_type": "code",
   "execution_count": 7,
   "metadata": {},
   "outputs": [],
   "source": [
    "class E2EBlock(torch.nn.Module):\n",
    "    '''E2Eblock.'''\n",
    "\n",
    "    def __init__(self, in_planes, planes,example,bias=True):\n",
    "        super(E2EBlock, self).__init__()\n",
    "        self.d = example.size(3)\n",
    "        self.cnn1 = torch.nn.Conv2d(in_planes,planes,(1,self.d),bias=bias)\n",
    "        self.cnn2 = torch.nn.Conv2d(in_planes,planes,(self.d,1),bias=bias)\n",
    "\n",
    "        \n",
    "    def forward(self, x):\n",
    "        a = self.cnn1(x)\n",
    "        b = self.cnn2(x)\n",
    "        return torch.cat([a]*self.d,3)+torch.cat([b]*self.d,2)\n",
    "\n"
   ]
  },
  {
   "cell_type": "code",
   "execution_count": 13,
   "metadata": {},
   "outputs": [
    {
     "data": {
      "text/plain": [
       "tensor([[[[ 0.4799,  1.2642,  1.1106,  0.9420,  0.5945,  1.0179],\n",
       "          [ 0.0978,  0.8821,  0.7285,  0.5599,  0.2124,  0.6358],\n",
       "          [-0.5087,  0.2756,  0.1221, -0.0465, -0.3941,  0.0293],\n",
       "          [ 0.1739,  0.9582,  0.8047,  0.6360,  0.2885,  0.7119],\n",
       "          [ 0.2946,  1.0789,  0.9253,  0.7567,  0.4092,  0.8326],\n",
       "          [-0.4521,  0.3322,  0.1786,  0.0100, -0.3375,  0.0859]]],\n",
       "\n",
       "\n",
       "        [[[ 0.4799,  1.2642,  1.1106,  0.9420,  0.5945,  1.0179],\n",
       "          [ 0.0978,  0.8821,  0.7285,  0.5599,  0.2124,  0.6358],\n",
       "          [-0.5087,  0.2756,  0.1221, -0.0465, -0.3941,  0.0293],\n",
       "          [ 0.1739,  0.9582,  0.8047,  0.6360,  0.2885,  0.7119],\n",
       "          [ 0.2946,  1.0789,  0.9253,  0.7567,  0.4092,  0.8326],\n",
       "          [-0.4521,  0.3322,  0.1786,  0.0100, -0.3375,  0.0859]]]])"
      ]
     },
     "execution_count": 13,
     "metadata": {},
     "output_type": "execute_result"
    }
   ],
   "source": [
    "block = E2EBlock(1,1,input_torch,False)\n",
    "block(Variable(input_torch))"
   ]
  },
  {
   "cell_type": "markdown",
   "metadata": {},
   "source": [
    "BrainNetCNN Network for fitting Gold-MSI on LSD dataset"
   ]
  },
  {
   "cell_type": "code",
   "execution_count": 89,
   "metadata": {},
   "outputs": [],
   "source": [
    "\"\"\"\" KERAS MODEL \n",
    "model.add(E2E_conv(2,32,(2,n_feat),kernel_regularizer=reg,input_shape=(n_feat,n_feat,1),input_dtype='float32',data_format=\"channels_last\"))\n",
    "print(\"First layer output shape :\"+str(model.output_shape))\n",
    "model.add(LeakyReLU(alpha=0.33))\n",
    "#print(model.output_shape)\n",
    "model.add(E2E_conv(2,32,(2,n_feat),kernel_regularizer=reg,data_format=\"channels_last\"))\n",
    "print(model.output_shape)\n",
    "model.add(LeakyReLU(alpha=0.33))\n",
    "model.add(Convolution2D(64,(1,n_feat),kernel_regularizer=reg,data_format=\"channels_last\"))\n",
    "model.add(LeakyReLU(alpha=0.33))\n",
    "model.add(Convolution2D(256,(n_feat,1),kernel_regularizer=reg,data_format=\"channels_last\"))\n",
    "model.add(LeakyReLU(alpha=0.33))\n",
    "#print(model.output_shape)\n",
    "model.add(Dropout(0.5))\n",
    "\n",
    "\n",
    "model.add(Dense(128,kernel_regularizer=reg,kernel_initializer=kernel_init))\n",
    "#print(model.output_shape)\n",
    "model.add(LeakyReLU(alpha=0.33))\n",
    "#print(model.output_shape)\n",
    "model.add(Dropout(0.5))\n",
    "model.add(Dense(30,kernel_regularizer=reg,kernel_initializer=kernel_init))\n",
    "model.add(LeakyReLU(alpha=0.33))\n",
    "#print(model.output_shape)\n",
    "model.add(Dropout(0.5))\n",
    "model.add(Dense(2,kernel_regularizer=reg,kernel_initializer=kernel_init))\n",
    "model.add(Flatten())\n",
    "model.add(LeakyReLU(alpha=0.33))\n",
    "\"\"\"\"\n",
    "\n",
    "class BrainNetCNN(torch.nn.Module):\n",
    "    def __init__(self, example, num_classes=10):\n",
    "        super(BrainNetCNN, self).__init__()\n",
    "        self.in_planes = example.size(1)\n",
    "        self.d = example.size(3)\n",
    "        \n",
    "        self.e2econv1 = E2EBlock(1,32,example)\n",
    "        self.e2econv2 = E2EBlock(32,64,example)\n",
    "        self.E2N = torch.nn.Conv2d(64,1,(1,self.d))\n",
    "        self.N2G = torch.nn.Conv2d(1,256,(self.d,1))\n",
    "        self.dense1 = torch.nn.Linear(256,128)\n",
    "        self.dense2 = torch.nn.Linear(128,30)\n",
    "        self.dense3 = torch.nn.Linear(30,2)\n",
    "\n",
    "    def forward(self, x):\n",
    "        out = F.leaky_relu(self.e2econv1(x),negative_slope=0.33)\n",
    "        out = F.leaky_relu(self.e2econv2(out),negative_slope=0.33) \n",
    "        out = F.leaky_relu(self.E2N(out),negative_slope=0.33)\n",
    "        out = F.dropout(F.leaky_relu(self.N2G(out),negative_slope=0.33),p=0.5)\n",
    "        out = out.view(out.size(0), -1)\n",
    "        out = F.dropout(F.leaky_relu(self.dense1(out),negative_slope=0.33),p=0.5)\n",
    "        out = F.dropout(F.leaky_relu(self.dense2(out),negative_slope=0.33),p=0.5)\n",
    "        out = F.leaky_relu(self.dense3(out),negative_slope=0.33)\n",
    "        \n",
    "        return out\n"
   ]
  },
  {
   "cell_type": "code",
   "execution_count": 134,
   "metadata": {},
   "outputs": [
    {
     "data": {
      "text/plain": [
       "tensor(1.00000e-02 *\n",
       "       [[-6.1536,  5.9549],\n",
       "        [-6.1536,  5.9549]])"
      ]
     },
     "execution_count": 134,
     "metadata": {},
     "output_type": "execute_result"
    }
   ],
   "source": [
    "net = BrainNetCNN(input_torch)\n",
    "net(Variable(input_torch))"
   ]
  },
  {
   "cell_type": "code",
   "execution_count": 152,
   "metadata": {},
   "outputs": [
    {
     "data": {
      "text/plain": [
       "torch.Size([2, 1, 6, 6])"
      ]
     },
     "execution_count": 152,
     "metadata": {},
     "output_type": "execute_result"
    }
   ],
   "source": [
    "input_torch.size()"
   ]
  },
  {
   "cell_type": "markdown",
   "metadata": {},
   "source": [
    "refs : carlos , voir [ici](https://github.com/brain-bzh/MCNN/blob/master/proposed/pines_aux.py) et [ici](https://github.com/brain-bzh/MCNN/blob/master/proposed/cifar.py)\n"
   ]
  },
  {
   "cell_type": "markdown",
   "metadata": {},
   "source": [
    "Loader for GoldMSI-LSD77 dataset"
   ]
  },
  {
   "cell_type": "code",
   "execution_count": 161,
   "metadata": {},
   "outputs": [],
   "source": [
    "behavdir = \"/Users/nicolasfarrugia/Documents/recherche/git/Gold-MSI-LSD77/behav\"\n",
    "\n",
    "from sklearn.model_selection import train_test_split\n",
    "from sklearn.preprocessing import normalize\n",
    "import os\n",
    "\n",
    "import torch.utils.data.dataset\n",
    "\n",
    "class GoldMSI_LSD_Dataset(torch.utils.data.Dataset):\n",
    "\n",
    "    def __init__(self, directory=behavdir,mode=\"train\",transform=False,class_balancing=False):\n",
    "        \"\"\"\n",
    "        Args:\n",
    "            directory (string): Path to the dataset.\n",
    "            mode (str): train = 90% Train, validation=10% Train, train+validation=100% train else test.\n",
    "            transform (callable, optional): Optional transform to be applied\n",
    "                on a sample.\n",
    "        \"\"\"\n",
    "        self.directory = directory\n",
    "        self.mode = mode\n",
    "        self.transform = transform\n",
    " \n",
    "        x = np.load(os.path.join(directory,\"X_y_lsd77_static_tangent.npz\"))['X']\n",
    "        y_all = np.load(os.path.join(directory,\"X_y_lsd77_static_tangent.npz\"))['y']            \n",
    "        y_2=y_all[:,[3,4]]\n",
    "        y = normalize(y_2,axis=0)\n",
    "        \n",
    "        X_train, X_test, y_train, y_test = train_test_split(x, y, test_size=0.33)\n",
    "        \n",
    "        if self.mode==\"train\":\n",
    "            \n",
    "            x = X_train\n",
    "            y = y_train\n",
    "            \n",
    "        elif self.mode==\"validation\":\n",
    "            x = X_test\n",
    "            y = y_test\n",
    "        elif mode==\"train+validation\":\n",
    "            x=x\n",
    "            y=y\n",
    "        else:\n",
    "            x=x\n",
    "            y=y\n",
    "            \n",
    "            \n",
    "        self.X = torch.FloatTensor(np.expand_dims(x,1).astype(np.float32))\n",
    "        #self.X = torch.FloatTensor(x.astype(np.float32))\n",
    "        self.Y = torch.FloatTensor(y.astype(np.float32))\n",
    "         \n",
    "        print(self.mode,self.X.shape,(self.Y.shape))\n",
    "            \n",
    "    def __len__(self):\n",
    "        return self.X.shape[0]\n",
    "\n",
    "    def __getitem__(self, idx):\n",
    "        sample = [self.X[idx], self.Y[idx]]\n",
    "        if self.transform:\n",
    "            sample[0] = self.transform(sample[0])\n",
    "        return sample"
   ]
  },
  {
   "cell_type": "code",
   "execution_count": 162,
   "metadata": {},
   "outputs": [
    {
     "name": "stdout",
     "output_type": "stream",
     "text": [
      "train torch.Size([203, 1, 64, 64]) torch.Size([203, 2])\n",
      "validation torch.Size([101, 1, 64, 64]) torch.Size([101, 2])\n"
     ]
    }
   ],
   "source": [
    "trainset = GoldMSI_LSD_Dataset(mode=\"train\")\n",
    "trainloader = torch.utils.data.DataLoader(trainset, batch_size=14, shuffle=True, num_workers=1)\n",
    "\n",
    "testset = GoldMSI_LSD_Dataset(mode=\"validation\")\n",
    "testloader = torch.utils.data.DataLoader(testset, batch_size=14, shuffle=False, num_workers=1)"
   ]
  },
  {
   "cell_type": "markdown",
   "metadata": {},
   "source": [
    "Training"
   ]
  },
  {
   "cell_type": "code",
   "execution_count": 130,
   "metadata": {},
   "outputs": [
    {
     "ename": "SyntaxError",
     "evalue": "EOL while scanning string literal (<ipython-input-130-39670bbd93c3>, line 10)",
     "output_type": "error",
     "traceback": [
      "\u001b[0;36m  File \u001b[0;32m\"<ipython-input-130-39670bbd93c3>\"\u001b[0;36m, line \u001b[0;32m10\u001b[0m\n\u001b[0;31m    \"\"\"\"\u001b[0m\n\u001b[0m        \n^\u001b[0m\n\u001b[0;31mSyntaxError\u001b[0m\u001b[0;31m:\u001b[0m EOL while scanning string literal\n"
     ]
    }
   ],
   "source": [
    "\"\"\"\" KERAS \n",
    "\n",
    "opt = optimizers.SGD(momentum=momentum,nesterov=True,lr=lr)\n",
    "model.compile(optimizer=opt,loss='mean_squared_error',metrics=['mae'])\n",
    "\n",
    "csv_logger = callbacks.CSVLogger('BrainCNN_gmsi.log')\n",
    "\n",
    "history=model.fit(X_train,y_train,epochs=1000,verbose=1,callbacks=[csv_logger])\n",
    "\n",
    "\"\"\"\""
   ]
  },
  {
   "cell_type": "code",
   "execution_count": 163,
   "metadata": {},
   "outputs": [],
   "source": [
    "net = BrainNetCNN(trainset.X)\n",
    "\n",
    "momentum = 0.9\n",
    "lr = 0.01\n",
    "\n",
    "criterion = torch.nn.MSELoss()\n",
    "optimizer = torch.optim.SGD(net.parameters(),lr=lr,momentum=momentum,nesterov=True)\n"
   ]
  },
  {
   "cell_type": "code",
   "execution_count": 167,
   "metadata": {},
   "outputs": [],
   "source": [
    "def train(epoch):\n",
    "    net.train()\n",
    "    train_loss = 0\n",
    "    correct = 0\n",
    "    total = 0\n",
    "    \n",
    "    for batch_idx, (inputs, targets) in enumerate(trainloader):\n",
    "        \n",
    "        #if use_cuda:\n",
    "        #    inputs, targets = inputs.cuda(), targets.cuda()\n",
    "        \n",
    "        optimizer.zero_grad()\n",
    "        inputs, targets = Variable(inputs), Variable(targets)\n",
    "        outputs = net(inputs)\n",
    "        loss = criterion(outputs, targets)\n",
    "        loss.backward()\n",
    "        optimizer.step()\n",
    "\n",
    "        train_loss += loss.data[0]\n",
    "        \n",
    "        print(loss.data[0])\n",
    "        #_, predicted = torch.max(outputs.data, 1)\n",
    "        \n",
    "        #total += targets.size(0)\n",
    "        \n",
    "        #correct += predicted.eq(targets.data).cpu().sum()\n",
    "\n",
    "\n",
    "def test():\n",
    "    net.eval()\n",
    "    test_loss = 0\n",
    "    correct = 0\n",
    "    total = 0\n",
    "    for batch_idx, (inputs, targets) in enumerate(testloader):\n",
    "        \n",
    "        #if use_cuda:\n",
    "        #    inputs, targets = inputs.cuda(), targets.cuda()\n",
    "        \n",
    "        inputs, targets = Variable(inputs, volatile=True), Variable(targets)\n",
    "        \n",
    "        outputs = net(inputs)\n",
    "        loss = criterion(outputs, targets)\n",
    "\n",
    "        test_loss += loss.data[0]\n",
    "        \n",
    "        print(loss.data[0])\n",
    "        \n",
    "        #_, predicted = torch.max(outputs.data, 1)\n",
    "        #total += targets.size(0)\n",
    "        #correct += predicted.eq(targets.data).cpu().sum()\n",
    "\n",
    "    # Save checkpoint.\n",
    "    #acc = 100.*correct/total\n",
    "    return test_loss.mean()\n"
   ]
  },
  {
   "cell_type": "code",
   "execution_count": 168,
   "metadata": {},
   "outputs": [
    {
     "name": "stderr",
     "output_type": "stream",
     "text": [
      "/Users/nicolasfarrugia/miniconda3/envs/eeg/lib/python3.6/site-packages/ipykernel_launcher.py:19: UserWarning: invalid index of a 0-dim tensor. This will be an error in PyTorch 0.5. Use tensor.item() to convert a 0-dim tensor to a Python number\n",
      "/Users/nicolasfarrugia/miniconda3/envs/eeg/lib/python3.6/site-packages/ipykernel_launcher.py:21: UserWarning: invalid index of a 0-dim tensor. This will be an error in PyTorch 0.5. Use tensor.item() to convert a 0-dim tensor to a Python number\n"
     ]
    },
    {
     "name": "stdout",
     "output_type": "stream",
     "text": [
      "tensor(1.00000e-03 *\n",
      "       4.5860)\n",
      "tensor(1.00000e-03 *\n",
      "       3.9852)\n",
      "tensor(1.00000e-03 *\n",
      "       3.3321)\n",
      "tensor(1.00000e-03 *\n",
      "       2.8694)\n",
      "tensor(1.00000e-03 *\n",
      "       3.7924)\n",
      "tensor(1.00000e-03 *\n",
      "       2.7636)\n",
      "tensor(1.00000e-03 *\n",
      "       4.1660)\n",
      "tensor(1.00000e-03 *\n",
      "       2.4515)\n",
      "tensor(1.00000e-03 *\n",
      "       2.6980)\n",
      "tensor(1.00000e-03 *\n",
      "       2.2797)\n",
      "tensor(1.00000e-03 *\n",
      "       3.1827)\n",
      "tensor(1.00000e-03 *\n",
      "       2.1142)\n",
      "tensor(1.00000e-03 *\n",
      "       1.6463)\n",
      "tensor(1.00000e-03 *\n",
      "       1.4550)\n",
      "tensor(1.00000e-03 *\n",
      "       1.1643)\n"
     ]
    },
    {
     "name": "stderr",
     "output_type": "stream",
     "text": [
      "/Users/nicolasfarrugia/miniconda3/envs/eeg/lib/python3.6/site-packages/ipykernel_launcher.py:39: UserWarning: volatile was removed and now has no effect. Use `with torch.no_grad():` instead.\n",
      "/Users/nicolasfarrugia/miniconda3/envs/eeg/lib/python3.6/site-packages/ipykernel_launcher.py:44: UserWarning: invalid index of a 0-dim tensor. This will be an error in PyTorch 0.5. Use tensor.item() to convert a 0-dim tensor to a Python number\n",
      "/Users/nicolasfarrugia/miniconda3/envs/eeg/lib/python3.6/site-packages/ipykernel_launcher.py:46: UserWarning: invalid index of a 0-dim tensor. This will be an error in PyTorch 0.5. Use tensor.item() to convert a 0-dim tensor to a Python number\n"
     ]
    },
    {
     "name": "stdout",
     "output_type": "stream",
     "text": [
      "tensor(1.00000e-03 *\n",
      "       1.4185)\n",
      "tensor(1.00000e-03 *\n",
      "       1.5979)\n",
      "tensor(1.00000e-04 *\n",
      "       9.7864)\n",
      "tensor(1.00000e-03 *\n",
      "       1.1636)\n",
      "tensor(1.00000e-03 *\n",
      "       1.8211)\n",
      "tensor(1.00000e-03 *\n",
      "       1.0433)\n",
      "tensor(1.00000e-03 *\n",
      "       1.5735)\n",
      "tensor(1.00000e-04 *\n",
      "       9.2852)\n"
     ]
    },
    {
     "ename": "NameError",
     "evalue": "name 'best_acc' is not defined",
     "output_type": "error",
     "traceback": [
      "\u001b[0;31m---------------------------------------------------------------------------\u001b[0m",
      "\u001b[0;31mNameError\u001b[0m                                 Traceback (most recent call last)",
      "\u001b[0;32m<ipython-input-168-de90e9f2a759>\u001b[0m in \u001b[0;36m<module>\u001b[0;34m()\u001b[0m\n\u001b[1;32m      5\u001b[0m     \u001b[0macc\u001b[0m \u001b[0;34m=\u001b[0m \u001b[0mtest\u001b[0m\u001b[0;34m(\u001b[0m\u001b[0;34m)\u001b[0m\u001b[0;34m\u001b[0m\u001b[0m\n\u001b[1;32m      6\u001b[0m     \u001b[0mlast_acc\u001b[0m \u001b[0;34m=\u001b[0m \u001b[0macc\u001b[0m\u001b[0;34m\u001b[0m\u001b[0m\n\u001b[0;32m----> 7\u001b[0;31m     \u001b[0;32mif\u001b[0m \u001b[0macc\u001b[0m \u001b[0;34m>\u001b[0m \u001b[0mbest_acc\u001b[0m\u001b[0;34m:\u001b[0m\u001b[0;34m\u001b[0m\u001b[0m\n\u001b[0m\u001b[1;32m      8\u001b[0m         \u001b[0mbest_acc\u001b[0m \u001b[0;34m=\u001b[0m \u001b[0macc\u001b[0m\u001b[0;34m\u001b[0m\u001b[0m\n",
      "\u001b[0;31mNameError\u001b[0m: name 'best_acc' is not defined"
     ]
    }
   ],
   "source": [
    "nbepochs = 5\n",
    "\n",
    "for epoch in range(nbepochs):\n",
    "    train(epoch)\n",
    "    acc = test()\n",
    "    last_acc = acc"
   ]
  },
  {
   "cell_type": "code",
   "execution_count": 166,
   "metadata": {},
   "outputs": [
    {
     "data": {
      "text/plain": [
       "tensor(1.00000e-02 *\n",
       "       3.1542)"
      ]
     },
     "execution_count": 166,
     "metadata": {},
     "output_type": "execute_result"
    }
   ],
   "source": [
    "acc"
   ]
  }
 ],
 "metadata": {
  "kernelspec": {
   "display_name": "Python 3",
   "language": "python",
   "name": "python3"
  },
  "language_info": {
   "codemirror_mode": {
    "name": "ipython",
    "version": 3
   },
   "file_extension": ".py",
   "mimetype": "text/x-python",
   "name": "python",
   "nbconvert_exporter": "python",
   "pygments_lexer": "ipython3",
   "version": "3.6.2"
  }
 },
 "nbformat": 4,
 "nbformat_minor": 2
}
