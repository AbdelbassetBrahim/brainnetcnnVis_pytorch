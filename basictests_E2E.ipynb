{
 "cells": [
  {
   "cell_type": "code",
   "execution_count": 27,
   "metadata": {
    "scrolled": true
   },
   "outputs": [],
   "source": [
    "import torch\n",
    "import numpy as np\n",
    "\n",
    "input = np.array(\n",
    "[[[\n",
    "    [1  ,1,0,0,0,1],\n",
    "    [1  ,1,0,1,0,1],\n",
    "    [0.5,1,1,1,0,0],\n",
    "    [0  ,1,0,1,0,1],\n",
    "    [0  ,1,1,0,0,1],\n",
    "    [1  ,0,1,0,0,0],\n",
    "]\n",
    "],\n",
    "    [[\n",
    "    [1  ,1,0,0,0,1],\n",
    "    [1  ,1,0,1,0,1],\n",
    "    [0.5,1,1,1,0,0],\n",
    "    [0  ,1,0,1,0,1],\n",
    "    [0  ,1,1,0,0,1],\n",
    "    [1  ,0,1,0,0,0],\n",
    "]\n",
    "]\n",
    "]\n",
    ")\n",
    "\n",
    "kernel = np.transpose(np.array(\n",
    "[[[\n",
    "    [1,1,1,1,1,1.0],\n",
    "    [1,1,1,1,1,1]\n",
    "]]]),[0,1,2,3])"
   ]
  },
  {
   "cell_type": "code",
   "execution_count": 42,
   "metadata": {},
   "outputs": [
    {
     "data": {
      "text/plain": [
       "((2, 1, 6, 6), (1, 1, 2, 6))"
      ]
     },
     "execution_count": 42,
     "metadata": {},
     "output_type": "execute_result"
    }
   ],
   "source": [
    "# One image of one feature map 6x6\n",
    "# The kernel has 1 feature map out, 1 feature map in, 2 vectors of size 6\n",
    "input.shape,kernel.shape"
   ]
  },
  {
   "cell_type": "code",
   "execution_count": 43,
   "metadata": {},
   "outputs": [],
   "source": [
    "input_torch = torch.FloatTensor(input)\n",
    "kernel_torch = torch.FloatTensor(kernel)"
   ]
  },
  {
   "cell_type": "code",
   "execution_count": 44,
   "metadata": {},
   "outputs": [
    {
     "name": "stdout",
     "output_type": "stream",
     "text": [
      "torch.Size([2, 1, 6, 1])\n"
     ]
    }
   ],
   "source": [
    "import torch.nn.functional as F\n",
    "import torch.nn\n",
    "from torch.autograd import Variable\n",
    "cnn = torch.nn.Conv2d(1,1,(1,6),bias=False)\n",
    "cnn.weight.data.copy_(kernel_torch[:,:,0,:])\n",
    "a = cnn.forward(Variable(input_torch))\n",
    "print(a.size())"
   ]
  },
  {
   "cell_type": "code",
   "execution_count": 56,
   "metadata": {},
   "outputs": [
    {
     "ename": "RuntimeError",
     "evalue": "The expanded size of the tensor (1) must match the existing size (6) at non-singleton dimension 3",
     "output_type": "error",
     "traceback": [
      "\u001b[0;31m---------------------------------------------------------------------------\u001b[0m",
      "\u001b[0;31mRuntimeError\u001b[0m                              Traceback (most recent call last)",
      "\u001b[0;32m<ipython-input-56-887cad7652e6>\u001b[0m in \u001b[0;36m<module>\u001b[0;34m()\u001b[0m\n\u001b[1;32m      1\u001b[0m \u001b[0mcnn2\u001b[0m \u001b[0;34m=\u001b[0m \u001b[0mtorch\u001b[0m\u001b[0;34m.\u001b[0m\u001b[0mnn\u001b[0m\u001b[0;34m.\u001b[0m\u001b[0mConv2d\u001b[0m\u001b[0;34m(\u001b[0m\u001b[0;36m1\u001b[0m\u001b[0;34m,\u001b[0m\u001b[0;36m1\u001b[0m\u001b[0;34m,\u001b[0m\u001b[0;34m(\u001b[0m\u001b[0;36m6\u001b[0m\u001b[0;34m,\u001b[0m\u001b[0;36m1\u001b[0m\u001b[0;34m)\u001b[0m\u001b[0;34m,\u001b[0m\u001b[0mbias\u001b[0m\u001b[0;34m=\u001b[0m\u001b[0;32mFalse\u001b[0m\u001b[0;34m)\u001b[0m\u001b[0;34m\u001b[0m\u001b[0m\n\u001b[0;32m----> 2\u001b[0;31m \u001b[0mcnn2\u001b[0m\u001b[0;34m.\u001b[0m\u001b[0mweight\u001b[0m\u001b[0;34m.\u001b[0m\u001b[0mdata\u001b[0m\u001b[0;34m.\u001b[0m\u001b[0mcopy_\u001b[0m\u001b[0;34m(\u001b[0m\u001b[0mkernel_torch\u001b[0m\u001b[0;34m[\u001b[0m\u001b[0;34m:\u001b[0m\u001b[0;34m,\u001b[0m\u001b[0;34m:\u001b[0m\u001b[0;34m,\u001b[0m\u001b[0;36m0\u001b[0m\u001b[0;34m,\u001b[0m\u001b[0;34m:\u001b[0m\u001b[0;34m]\u001b[0m\u001b[0;34m)\u001b[0m\u001b[0;34m\u001b[0m\u001b[0m\n\u001b[0m\u001b[1;32m      3\u001b[0m \u001b[0;34m\u001b[0m\u001b[0m\n\u001b[1;32m      4\u001b[0m \u001b[0mb\u001b[0m \u001b[0;34m=\u001b[0m \u001b[0mcnn2\u001b[0m\u001b[0;34m.\u001b[0m\u001b[0mforward\u001b[0m\u001b[0;34m(\u001b[0m\u001b[0mVariable\u001b[0m\u001b[0;34m(\u001b[0m\u001b[0minput_torch\u001b[0m\u001b[0;34m)\u001b[0m\u001b[0;34m)\u001b[0m\u001b[0;34m\u001b[0m\u001b[0m\n\u001b[1;32m      5\u001b[0m \u001b[0mprint\u001b[0m\u001b[0;34m(\u001b[0m\u001b[0mb\u001b[0m\u001b[0;34m.\u001b[0m\u001b[0msize\u001b[0m\u001b[0;34m(\u001b[0m\u001b[0;34m)\u001b[0m\u001b[0;34m)\u001b[0m\u001b[0;34m\u001b[0m\u001b[0m\n",
      "\u001b[0;31mRuntimeError\u001b[0m: The expanded size of the tensor (1) must match the existing size (6) at non-singleton dimension 3"
     ]
    }
   ],
   "source": [
    "cnn2 = torch.nn.Conv2d(1,1,(6,1),bias=False)\n",
    "cnn2.weight.data.copy_(kernel_torch[:,:,0,:])\n",
    "\n",
    "b = cnn2.forward(Variable(input_torch))\n",
    "print(b.size())"
   ]
  },
  {
   "cell_type": "code",
   "execution_count": 14,
   "metadata": {},
   "outputs": [
    {
     "data": {
      "text/plain": [
       "tensor([[[[ 3.0000],\n",
       "          [ 4.0000],\n",
       "          [ 3.5000],\n",
       "          [ 3.0000],\n",
       "          [ 3.0000],\n",
       "          [ 2.0000]]],\n",
       "\n",
       "\n",
       "        [[[ 3.0000],\n",
       "          [ 4.0000],\n",
       "          [ 3.5000],\n",
       "          [ 3.0000],\n",
       "          [ 3.0000],\n",
       "          [ 2.0000]]]])"
      ]
     },
     "execution_count": 14,
     "metadata": {},
     "output_type": "execute_result"
    }
   ],
   "source": [
    "a"
   ]
  },
  {
   "cell_type": "code",
   "execution_count": 15,
   "metadata": {},
   "outputs": [
    {
     "data": {
      "text/plain": [
       "tensor([[[[ 3.0000,  3.0000,  3.0000,  3.0000,  3.0000,  3.0000],\n",
       "          [ 4.0000,  4.0000,  4.0000,  4.0000,  4.0000,  4.0000],\n",
       "          [ 3.5000,  3.5000,  3.5000,  3.5000,  3.5000,  3.5000],\n",
       "          [ 3.0000,  3.0000,  3.0000,  3.0000,  3.0000,  3.0000],\n",
       "          [ 3.0000,  3.0000,  3.0000,  3.0000,  3.0000,  3.0000],\n",
       "          [ 2.0000,  2.0000,  2.0000,  2.0000,  2.0000,  2.0000]]],\n",
       "\n",
       "\n",
       "        [[[ 3.0000,  3.0000,  3.0000,  3.0000,  3.0000,  3.0000],\n",
       "          [ 4.0000,  4.0000,  4.0000,  4.0000,  4.0000,  4.0000],\n",
       "          [ 3.5000,  3.5000,  3.5000,  3.5000,  3.5000,  3.5000],\n",
       "          [ 3.0000,  3.0000,  3.0000,  3.0000,  3.0000,  3.0000],\n",
       "          [ 3.0000,  3.0000,  3.0000,  3.0000,  3.0000,  3.0000],\n",
       "          [ 2.0000,  2.0000,  2.0000,  2.0000,  2.0000,  2.0000]]]])"
      ]
     },
     "execution_count": 15,
     "metadata": {},
     "output_type": "execute_result"
    }
   ],
   "source": [
    "torch.cat([a]*6,3)\n"
   ]
  },
  {
   "cell_type": "code",
   "execution_count": 16,
   "metadata": {},
   "outputs": [
    {
     "ename": "NameError",
     "evalue": "name 'b' is not defined",
     "output_type": "error",
     "traceback": [
      "\u001b[0;31m---------------------------------------------------------------------------\u001b[0m",
      "\u001b[0;31mNameError\u001b[0m                                 Traceback (most recent call last)",
      "\u001b[0;32m<ipython-input-16-89e6c98d9288>\u001b[0m in \u001b[0;36m<module>\u001b[0;34m()\u001b[0m\n\u001b[0;32m----> 1\u001b[0;31m \u001b[0mb\u001b[0m\u001b[0;34m\u001b[0m\u001b[0m\n\u001b[0m",
      "\u001b[0;31mNameError\u001b[0m: name 'b' is not defined"
     ]
    }
   ],
   "source": [
    "b"
   ]
  },
  {
   "cell_type": "code",
   "execution_count": 17,
   "metadata": {},
   "outputs": [
    {
     "ename": "NameError",
     "evalue": "name 'b' is not defined",
     "output_type": "error",
     "traceback": [
      "\u001b[0;31m---------------------------------------------------------------------------\u001b[0m",
      "\u001b[0;31mNameError\u001b[0m                                 Traceback (most recent call last)",
      "\u001b[0;32m<ipython-input-17-0bc9514cbfbe>\u001b[0m in \u001b[0;36m<module>\u001b[0;34m()\u001b[0m\n\u001b[0;32m----> 1\u001b[0;31m \u001b[0mtorch\u001b[0m\u001b[0;34m.\u001b[0m\u001b[0mcat\u001b[0m\u001b[0;34m(\u001b[0m\u001b[0;34m[\u001b[0m\u001b[0mb\u001b[0m\u001b[0;34m]\u001b[0m\u001b[0;34m*\u001b[0m\u001b[0;36m6\u001b[0m\u001b[0;34m,\u001b[0m\u001b[0;36m2\u001b[0m\u001b[0;34m)\u001b[0m\u001b[0;34m\u001b[0m\u001b[0m\n\u001b[0m",
      "\u001b[0;31mNameError\u001b[0m: name 'b' is not defined"
     ]
    }
   ],
   "source": [
    "torch.cat([b]*6,2)\n"
   ]
  },
  {
   "cell_type": "code",
   "execution_count": null,
   "metadata": {},
   "outputs": [],
   "source": [
    "torch.cat([a]*6,3)+torch.cat([b]*6,2)\n"
   ]
  },
  {
   "cell_type": "code",
   "execution_count": 7,
   "metadata": {},
   "outputs": [],
   "source": [
    "class E2EBlock(torch.nn.Module):\n",
    "    '''E2Eblock.'''\n",
    "\n",
    "    def __init__(self, in_planes, planes,example,bias=True):\n",
    "        super(E2EBlock, self).__init__()\n",
    "        self.d = example.size(3)\n",
    "        self.cnn1 = torch.nn.Conv2d(in_planes,planes,(1,self.d),bias=bias)\n",
    "        self.cnn2 = torch.nn.Conv2d(in_planes,planes,(self.d,1),bias=bias)\n",
    "\n",
    "        \n",
    "    def forward(self, x):\n",
    "        a = self.cnn1(x)\n",
    "        b = self.cnn2(x)\n",
    "        return torch.cat([a]*self.d,3)+torch.cat([b]*self.d,2)\n",
    "\n"
   ]
  },
  {
   "cell_type": "code",
   "execution_count": 13,
   "metadata": {},
   "outputs": [
    {
     "data": {
      "text/plain": [
       "tensor([[[[ 0.4799,  1.2642,  1.1106,  0.9420,  0.5945,  1.0179],\n",
       "          [ 0.0978,  0.8821,  0.7285,  0.5599,  0.2124,  0.6358],\n",
       "          [-0.5087,  0.2756,  0.1221, -0.0465, -0.3941,  0.0293],\n",
       "          [ 0.1739,  0.9582,  0.8047,  0.6360,  0.2885,  0.7119],\n",
       "          [ 0.2946,  1.0789,  0.9253,  0.7567,  0.4092,  0.8326],\n",
       "          [-0.4521,  0.3322,  0.1786,  0.0100, -0.3375,  0.0859]]],\n",
       "\n",
       "\n",
       "        [[[ 0.4799,  1.2642,  1.1106,  0.9420,  0.5945,  1.0179],\n",
       "          [ 0.0978,  0.8821,  0.7285,  0.5599,  0.2124,  0.6358],\n",
       "          [-0.5087,  0.2756,  0.1221, -0.0465, -0.3941,  0.0293],\n",
       "          [ 0.1739,  0.9582,  0.8047,  0.6360,  0.2885,  0.7119],\n",
       "          [ 0.2946,  1.0789,  0.9253,  0.7567,  0.4092,  0.8326],\n",
       "          [-0.4521,  0.3322,  0.1786,  0.0100, -0.3375,  0.0859]]]])"
      ]
     },
     "execution_count": 13,
     "metadata": {},
     "output_type": "execute_result"
    }
   ],
   "source": [
    "block = E2EBlock(1,1,input_torch,False)\n",
    "block(Variable(input_torch))"
   ]
  },
  {
   "cell_type": "code",
   "execution_count": null,
   "metadata": {},
   "outputs": [],
   "source": [
    "\"\"\"\" KERAS MODEL \n",
    "model.add(E2E_conv(2,32,(2,n_feat),kernel_regularizer=reg,input_shape=(n_feat,n_feat,1),input_dtype='float32',data_format=\"channels_last\"))\n",
    "print(\"First layer output shape :\"+str(model.output_shape))\n",
    "model.add(LeakyReLU(alpha=0.33))\n",
    "#print(model.output_shape)\n",
    "model.add(E2E_conv(2,32,(2,n_feat),kernel_regularizer=reg,data_format=\"channels_last\"))\n",
    "print(model.output_shape)\n",
    "model.add(LeakyReLU(alpha=0.33))\n",
    "model.add(Convolution2D(64,(1,n_feat),kernel_regularizer=reg,data_format=\"channels_last\"))\n",
    "model.add(LeakyReLU(alpha=0.33))\n",
    "model.add(Convolution2D(256,(n_feat,1),kernel_regularizer=reg,data_format=\"channels_last\"))\n",
    "model.add(LeakyReLU(alpha=0.33))\n",
    "#print(model.output_shape)\n",
    "model.add(Dropout(0.5))\n",
    "\n",
    "\n",
    "model.add(Dense(128,kernel_regularizer=reg,kernel_initializer=kernel_init))\n",
    "#print(model.output_shape)\n",
    "model.add(LeakyReLU(alpha=0.33))\n",
    "#print(model.output_shape)\n",
    "model.add(Dropout(0.5))\n",
    "model.add(Dense(30,kernel_regularizer=reg,kernel_initializer=kernel_init))\n",
    "model.add(LeakyReLU(alpha=0.33))\n",
    "#print(model.output_shape)\n",
    "model.add(Dropout(0.5))\n",
    "model.add(Dense(2,kernel_regularizer=reg,kernel_initializer=kernel_init))\n",
    "model.add(Flatten())\n",
    "model.add(LeakyReLU(alpha=0.33))\n",
    "\"\"\"\"\n"
   ]
  },
  {
   "cell_type": "code",
   "execution_count": 77,
   "metadata": {},
   "outputs": [],
   "source": [
    "F.dropout?"
   ]
  },
  {
   "cell_type": "code",
   "execution_count": 87,
   "metadata": {},
   "outputs": [],
   "source": [
    "class BrainNetCNN(torch.nn.Module):\n",
    "    def __init__(self, example, num_classes=10):\n",
    "        super(BrainNetCNN, self).__init__()\n",
    "        self.in_planes = example.size(1)\n",
    "        self.d = example.size(3)\n",
    "        \n",
    "        self.e2econv1 = E2EBlock(1,32,example)\n",
    "        self.e2econv2 = E2EBlock(32,64,example)\n",
    "        self.E2N = torch.nn.Conv2d(64,1,(1,self.d))\n",
    "        self.N2G = torch.nn.Conv2d(1,256,(self.d,1))\n",
    "        self.dense1 = torch.nn.Linear(256,128)\n",
    "        self.dense2 = torch.nn.Linear(128,30)\n",
    "        self.dense3 = torch.nn.Linear(30,2)\n",
    "\n",
    "    def forward(self, x):\n",
    "        out = F.leaky_relu(self.e2econv1(x),negative_slope=0.33)\n",
    "        out = F.leaky_relu(self.e2econv2(out),negative_slope=0.33) \n",
    "        out = F.leaky_relu(self.E2N(out),negative_slope=0.33)\n",
    "        out = F.dropout(F.leaky_relu(self.N2G(out),negative_slope=0.33),p=0.5)\n",
    "        out = out.view(out.size(0), -1)\n",
    "        out = F.dropout(F.leaky_relu(self.dense1(out),negative_slope=0.33),p=0.5)\n",
    "        out = F.dropout(F.leaky_relu(self.dense2(out),negative_slope=0.33),p=0.5)\n",
    "        out = F.leaky_relu(self.dense3(out),negative_slope=0.33)\n",
    "        \n",
    "        return out\n"
   ]
  },
  {
   "cell_type": "code",
   "execution_count": 88,
   "metadata": {},
   "outputs": [
    {
     "data": {
      "text/plain": [
       "tensor(1.00000e-02 *\n",
       "       [[ 4.9636, -0.9249],\n",
       "        [ 4.9636, -0.9249]])"
      ]
     },
     "execution_count": 88,
     "metadata": {},
     "output_type": "execute_result"
    }
   ],
   "source": [
    "net = BrainNetCNN(input_torch)\n",
    "net(Variable(input_torch))"
   ]
  },
  {
   "cell_type": "markdown",
   "metadata": {},
   "source": [
    "refs : carlos , voir [ici](https://github.com/brain-bzh/MCNN/blob/master/proposed/pines_aux.py) et [ici](https://github.com/brain-bzh/MCNN/blob/master/proposed/cifar.py)\n"
   ]
  },
  {
   "cell_type": "markdown",
   "metadata": {},
   "source": [
    "ref: BrainNetCNN avec données LSD77 [ici](https://github.com/nicofarr/BrainCNN_Vis/blob/master/BrainNetCNN.py)"
   ]
  },
  {
   "cell_type": "code",
   "execution_count": null,
   "metadata": {},
   "outputs": [],
   "source": []
  },
  {
   "cell_type": "code",
   "execution_count": null,
   "metadata": {},
   "outputs": [],
   "source": []
  }
 ],
 "metadata": {
  "kernelspec": {
   "display_name": "Python 3",
   "language": "python",
   "name": "python3"
  },
  "language_info": {
   "codemirror_mode": {
    "name": "ipython",
    "version": 3
   },
   "file_extension": ".py",
   "mimetype": "text/x-python",
   "name": "python",
   "nbconvert_exporter": "python",
   "pygments_lexer": "ipython3",
   "version": "3.6.2"
  }
 },
 "nbformat": 4,
 "nbformat_minor": 2
}
