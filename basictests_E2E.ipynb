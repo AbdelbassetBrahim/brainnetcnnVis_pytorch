{
 "cells": [
  {
   "cell_type": "code",
   "execution_count": 32,
   "metadata": {
    "scrolled": true
   },
   "outputs": [],
   "source": [
    "import torch\n",
    "import numpy as np\n",
    "\n",
    "input = np.array(\n",
    "[[[\n",
    "    [1  ,1,0,0,0,1],\n",
    "    [1  ,1,0,1,0,1],\n",
    "    [0.5,1,1,1,0,0],\n",
    "    [0  ,1,0,1,0,1],\n",
    "    [0  ,1,1,0,0,1],\n",
    "    [1  ,0,1,0,0,0],\n",
    "]\n",
    "],\n",
    "    [[\n",
    "    [1  ,1,0,0,0,1],\n",
    "    [1  ,1,0,1,0,1],\n",
    "    [0.5,1,1,1,0,0],\n",
    "    [0  ,1,0,1,0,1],\n",
    "    [0  ,1,1,0,0,1],\n",
    "    [1  ,0,1,0,0,0],\n",
    "]\n",
    "]\n",
    "]\n",
    ")\n",
    "\n",
    "kernel = np.transpose(np.array(\n",
    "[[[\n",
    "    [1,1,1,1,1,1.0],\n",
    "    [1,1,1,1,1,1]\n",
    "]]]),[0,1,2,3])"
   ]
  },
  {
   "cell_type": "code",
   "execution_count": 33,
   "metadata": {},
   "outputs": [
    {
     "data": {
      "text/plain": [
       "((2, 1, 6, 6), (1, 1, 2, 6))"
      ]
     },
     "execution_count": 33,
     "metadata": {},
     "output_type": "execute_result"
    }
   ],
   "source": [
    "# One image of one feature map 6x6\n",
    "# The kernel has 1 feature map out, 1 feature map in, 2 vectors of size 6\n",
    "input.shape,kernel.shape"
   ]
  },
  {
   "cell_type": "code",
   "execution_count": 34,
   "metadata": {},
   "outputs": [],
   "source": [
    "input_torch = torch.FloatTensor(input)\n",
    "kernel_torch = torch.FloatTensor(kernel)"
   ]
  },
  {
   "cell_type": "code",
   "execution_count": 35,
   "metadata": {},
   "outputs": [
    {
     "name": "stdout",
     "output_type": "stream",
     "text": [
      "torch.Size([2, 1, 6, 1])\n"
     ]
    }
   ],
   "source": [
    "import torch.nn.functional as F\n",
    "import torch.nn\n",
    "from torch.autograd import Variable\n",
    "cnn = torch.nn.Conv2d(1,1,(1,6),bias=False)\n",
    "cnn.weight.data.copy_(kernel_torch[:,:,0,:])\n",
    "a = cnn.forward(Variable(input_torch))\n",
    "print(a.size())"
   ]
  },
  {
   "cell_type": "code",
   "execution_count": 36,
   "metadata": {},
   "outputs": [
    {
     "name": "stdout",
     "output_type": "stream",
     "text": [
      "torch.Size([2, 1, 1, 6])\n"
     ]
    }
   ],
   "source": [
    "cnn2 = torch.nn.Conv2d(1,1,(6,1),bias=False)\n",
    "cnn2.weight.data.copy_(kernel_torch[:,:,1,:])\n",
    "\n",
    "b = cnn2.forward(Variable(input_torch))\n",
    "print(b.size())"
   ]
  },
  {
   "cell_type": "code",
   "execution_count": 40,
   "metadata": {},
   "outputs": [
    {
     "data": {
      "text/plain": [
       "Variable containing:\n",
       "(0 ,0 ,.,.) = \n",
       "  3.0000\n",
       "  4.0000\n",
       "  3.5000\n",
       "  3.0000\n",
       "  3.0000\n",
       "  2.0000\n",
       "\n",
       "(1 ,0 ,.,.) = \n",
       "  3.0000\n",
       "  4.0000\n",
       "  3.5000\n",
       "  3.0000\n",
       "  3.0000\n",
       "  2.0000\n",
       "[torch.FloatTensor of size 2x1x6x1]"
      ]
     },
     "execution_count": 40,
     "metadata": {},
     "output_type": "execute_result"
    }
   ],
   "source": [
    "a"
   ]
  },
  {
   "cell_type": "code",
   "execution_count": 41,
   "metadata": {},
   "outputs": [
    {
     "data": {
      "text/plain": [
       "Variable containing:\n",
       "(0 ,0 ,.,.) = \n",
       "  3.0000  3.0000  3.0000  3.0000  3.0000  3.0000\n",
       "  4.0000  4.0000  4.0000  4.0000  4.0000  4.0000\n",
       "  3.5000  3.5000  3.5000  3.5000  3.5000  3.5000\n",
       "  3.0000  3.0000  3.0000  3.0000  3.0000  3.0000\n",
       "  3.0000  3.0000  3.0000  3.0000  3.0000  3.0000\n",
       "  2.0000  2.0000  2.0000  2.0000  2.0000  2.0000\n",
       "\n",
       "(1 ,0 ,.,.) = \n",
       "  3.0000  3.0000  3.0000  3.0000  3.0000  3.0000\n",
       "  4.0000  4.0000  4.0000  4.0000  4.0000  4.0000\n",
       "  3.5000  3.5000  3.5000  3.5000  3.5000  3.5000\n",
       "  3.0000  3.0000  3.0000  3.0000  3.0000  3.0000\n",
       "  3.0000  3.0000  3.0000  3.0000  3.0000  3.0000\n",
       "  2.0000  2.0000  2.0000  2.0000  2.0000  2.0000\n",
       "[torch.FloatTensor of size 2x1x6x6]"
      ]
     },
     "execution_count": 41,
     "metadata": {},
     "output_type": "execute_result"
    }
   ],
   "source": [
    "torch.cat([a]*6,3)\n"
   ]
  },
  {
   "cell_type": "code",
   "execution_count": 42,
   "metadata": {},
   "outputs": [
    {
     "data": {
      "text/plain": [
       "Variable containing:\n",
       "(0 ,0 ,.,.) = \n",
       "  3.5000  5.0000  3.0000  3.0000  0.0000  4.0000\n",
       "\n",
       "(1 ,0 ,.,.) = \n",
       "  3.5000  5.0000  3.0000  3.0000  0.0000  4.0000\n",
       "[torch.FloatTensor of size 2x1x1x6]"
      ]
     },
     "execution_count": 42,
     "metadata": {},
     "output_type": "execute_result"
    }
   ],
   "source": [
    "b"
   ]
  },
  {
   "cell_type": "code",
   "execution_count": 43,
   "metadata": {},
   "outputs": [
    {
     "data": {
      "text/plain": [
       "Variable containing:\n",
       "(0 ,0 ,.,.) = \n",
       "  3.5000  5.0000  3.0000  3.0000  0.0000  4.0000\n",
       "  3.5000  5.0000  3.0000  3.0000  0.0000  4.0000\n",
       "  3.5000  5.0000  3.0000  3.0000  0.0000  4.0000\n",
       "  3.5000  5.0000  3.0000  3.0000  0.0000  4.0000\n",
       "  3.5000  5.0000  3.0000  3.0000  0.0000  4.0000\n",
       "  3.5000  5.0000  3.0000  3.0000  0.0000  4.0000\n",
       "\n",
       "(1 ,0 ,.,.) = \n",
       "  3.5000  5.0000  3.0000  3.0000  0.0000  4.0000\n",
       "  3.5000  5.0000  3.0000  3.0000  0.0000  4.0000\n",
       "  3.5000  5.0000  3.0000  3.0000  0.0000  4.0000\n",
       "  3.5000  5.0000  3.0000  3.0000  0.0000  4.0000\n",
       "  3.5000  5.0000  3.0000  3.0000  0.0000  4.0000\n",
       "  3.5000  5.0000  3.0000  3.0000  0.0000  4.0000\n",
       "[torch.FloatTensor of size 2x1x6x6]"
      ]
     },
     "execution_count": 43,
     "metadata": {},
     "output_type": "execute_result"
    }
   ],
   "source": [
    "torch.cat([b]*6,2)\n"
   ]
  },
  {
   "cell_type": "code",
   "execution_count": 45,
   "metadata": {},
   "outputs": [
    {
     "data": {
      "text/plain": [
       "Variable containing:\n",
       "(0 ,0 ,.,.) = \n",
       "  6.5000  8.0000  6.0000  6.0000  3.0000  7.0000\n",
       "  7.5000  9.0000  7.0000  7.0000  4.0000  8.0000\n",
       "  7.0000  8.5000  6.5000  6.5000  3.5000  7.5000\n",
       "  6.5000  8.0000  6.0000  6.0000  3.0000  7.0000\n",
       "  6.5000  8.0000  6.0000  6.0000  3.0000  7.0000\n",
       "  5.5000  7.0000  5.0000  5.0000  2.0000  6.0000\n",
       "\n",
       "(1 ,0 ,.,.) = \n",
       "  6.5000  8.0000  6.0000  6.0000  3.0000  7.0000\n",
       "  7.5000  9.0000  7.0000  7.0000  4.0000  8.0000\n",
       "  7.0000  8.5000  6.5000  6.5000  3.5000  7.5000\n",
       "  6.5000  8.0000  6.0000  6.0000  3.0000  7.0000\n",
       "  6.5000  8.0000  6.0000  6.0000  3.0000  7.0000\n",
       "  5.5000  7.0000  5.0000  5.0000  2.0000  6.0000\n",
       "[torch.FloatTensor of size 2x1x6x6]"
      ]
     },
     "execution_count": 45,
     "metadata": {},
     "output_type": "execute_result"
    }
   ],
   "source": [
    "torch.cat([a]*6,3)+torch.cat([b]*6,2)\n"
   ]
  },
  {
   "cell_type": "code",
   "execution_count": 50,
   "metadata": {},
   "outputs": [],
   "source": [
    "class E2EBlock(torch.nn.Module):\n",
    "    '''Pre-activation version of the BasicBlock.'''\n",
    "\n",
    "    def __init__(self, in_planes, planes,example,bias=True):\n",
    "        super(E2EBlock, self).__init__()\n",
    "        self.d = example.size(3)\n",
    "        self.cnn1 = torch.nn.Conv2d(in_planes,planes,(1,self.d),bias=bias)\n",
    "        self.cnn2 = torch.nn.Conv2d(in_planes,planes,(self.d,1),bias=bias)\n",
    "\n",
    "        \n",
    "    def forward(self, x):\n",
    "        a = self.cnn1(x)\n",
    "        b = self.cnn2(x)\n",
    "        return torch.cat([a]*self.d,3)+torch.cat([b]*self.d,2)\n",
    "\n"
   ]
  },
  {
   "cell_type": "code",
   "execution_count": 51,
   "metadata": {},
   "outputs": [
    {
     "data": {
      "text/plain": [
       "Variable containing:\n",
       "(0 ,0 ,.,.) = \n",
       "  0.2625  0.4385  0.6815  0.4772  0.1019  0.1031\n",
       "  0.6327  0.8087  1.0517  0.8474  0.4721  0.4733\n",
       "  0.4872  0.6632  0.9062  0.7019  0.3266  0.3278\n",
       "  0.4463  0.6223  0.8652  0.6610  0.2857  0.2869\n",
       "  0.1002  0.2762  0.5191  0.3149 -0.0604 -0.0592\n",
       "  0.3710  0.5471  0.7900  0.5858  0.2105  0.2117\n",
       "\n",
       "(1 ,0 ,.,.) = \n",
       "  0.2625  0.4385  0.6815  0.4772  0.1019  0.1031\n",
       "  0.6327  0.8087  1.0517  0.8474  0.4721  0.4733\n",
       "  0.4872  0.6632  0.9062  0.7019  0.3266  0.3278\n",
       "  0.4463  0.6223  0.8652  0.6610  0.2857  0.2869\n",
       "  0.1002  0.2762  0.5191  0.3149 -0.0604 -0.0592\n",
       "  0.3710  0.5471  0.7900  0.5858  0.2105  0.2117\n",
       "[torch.FloatTensor of size 2x1x6x6]"
      ]
     },
     "execution_count": 51,
     "metadata": {},
     "output_type": "execute_result"
    }
   ],
   "source": [
    "block = E2EBlock(1,1,input_torch,False)\n",
    "block(Variable(input_torch))"
   ]
  },
  {
   "cell_type": "code",
   "execution_count": 64,
   "metadata": {},
   "outputs": [],
   "source": [
    "class NetworkE2E(torch.nn.Module):\n",
    "    def __init__(self, example, num_classes=10):\n",
    "        super(NetworkE2E, self).__init__()\n",
    "        self.in_planes = example.size(1)\n",
    "        self.d = example.size(3)\n",
    "        \n",
    "        self.e2econv1 = E2EBlock(1,4,example)\n",
    "        self.e2econv2 = E2EBlock(4,8,example)\n",
    "        self.e2econv3 = E2EBlock(8,16,example)\n",
    "        self.e2econv4 = E2EBlock(16,32,example)\n",
    "        self.linear = torch.nn.Linear(32*self.d*self.d,num_classes)\n",
    "        \n",
    "\n",
    "    def forward(self, x):\n",
    "        out = F.relu(self.e2econv1(x))\n",
    "        out = F.relu(self.e2econv2(out))\n",
    "        out = F.relu(self.e2econv3(out))\n",
    "        out = F.relu(self.e2econv4(out))\n",
    "        out = out.view(out.size(0), -1)\n",
    "        out = self.linear(out)\n",
    "        return out\n"
   ]
  },
  {
   "cell_type": "code",
   "execution_count": 65,
   "metadata": {},
   "outputs": [
    {
     "data": {
      "text/plain": [
       "Variable containing:\n",
       " 0.1573  0.0376  0.2083  0.0801  0.0890  0.1046  0.1739  0.0613 -0.0655 -0.0425\n",
       " 0.1573  0.0376  0.2083  0.0801  0.0890  0.1046  0.1739  0.0613 -0.0655 -0.0425\n",
       "[torch.FloatTensor of size 2x10]"
      ]
     },
     "execution_count": 65,
     "metadata": {},
     "output_type": "execute_result"
    }
   ],
   "source": [
    "net = NetworkE2E(input_torch)\n",
    "net(Variable(input_torch))"
   ]
  },
  {
   "cell_type": "markdown",
   "metadata": {},
   "source": [
    "refs : carlos , voir [ici](https://github.com/brain-bzh/MCNN/blob/master/proposed/pines_aux.py) et [ici](https://github.com/brain-bzh/MCNN/blob/master/proposed/cifar.py)\n"
   ]
  },
  {
   "cell_type": "markdown",
   "metadata": {},
   "source": [
    "ref: BrainNetCNN avec données LSD77 [ici](https://github.com/nicofarr/BrainCNN_Vis/blob/master/BrainNetCNN.py)"
   ]
  },
  {
   "cell_type": "code",
   "execution_count": null,
   "metadata": {},
   "outputs": [],
   "source": []
  },
  {
   "cell_type": "code",
   "execution_count": null,
   "metadata": {},
   "outputs": [],
   "source": []
  }
 ],
 "metadata": {
  "kernelspec": {
   "display_name": "Python 3",
   "language": "python",
   "name": "python3"
  },
  "language_info": {
   "codemirror_mode": {
    "name": "ipython",
    "version": 3
   },
   "file_extension": ".py",
   "mimetype": "text/x-python",
   "name": "python",
   "nbconvert_exporter": "python",
   "pygments_lexer": "ipython3",
   "version": "3.6.0"
  }
 },
 "nbformat": 4,
 "nbformat_minor": 2
}
